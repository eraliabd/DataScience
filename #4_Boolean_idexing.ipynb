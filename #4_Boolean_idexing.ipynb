{
  "nbformat": 4,
  "nbformat_minor": 0,
  "metadata": {
    "colab": {
      "provenance": [],
      "toc_visible": true,
      "authorship_tag": "ABX9TyMZKG+e0qaxcE83lZt4f/Qc",
      "include_colab_link": true
    },
    "kernelspec": {
      "name": "python3",
      "display_name": "Python 3"
    },
    "language_info": {
      "name": "python"
    }
  },
  "cells": [
    {
      "cell_type": "markdown",
      "metadata": {
        "id": "view-in-github",
        "colab_type": "text"
      },
      "source": [
        "<a href=\"https://colab.research.google.com/github/eraliabd/DataScience/blob/main/%234_Boolean_idexing.ipynb\" target=\"_parent\"><img src=\"https://colab.research.google.com/assets/colab-badge.svg\" alt=\"Open In Colab\"/></a>"
      ]
    },
    {
      "cell_type": "markdown",
      "source": [
        "# **Ma'lumotlar tahlili. (NumPy kutubxonasi)**"
      ],
      "metadata": {
        "id": "CcDShelzsTgm"
      }
    },
    {
      "cell_type": "markdown",
      "source": [
        "# **NumPy kutubxonasi bilan ishlash**"
      ],
      "metadata": {
        "id": "QoIcczcaPUs4"
      }
    },
    {
      "cell_type": "markdown",
      "source": [
        " NumPy kutubxonasini chaqirib olish."
      ],
      "metadata": {
        "id": "K3rW0nynIQ33"
      }
    },
    {
      "cell_type": "code",
      "source": [
        "import numpy as np"
      ],
      "metadata": {
        "id": "7FvD8M-PIX2C"
      },
      "execution_count": 1,
      "outputs": []
    },
    {
      "cell_type": "markdown",
      "source": [
        "**N-o'lchamli massiv (array)larga ishlov berish**"
      ],
      "metadata": {
        "id": "6EHQEuu_PJTY"
      }
    },
    {
      "cell_type": "markdown",
      "source": [
        "# **Boolean indekslash**\n",
        "\n"
      ],
      "metadata": {
        "id": "IjOY4uShvwaV"
      }
    },
    {
      "cell_type": "code",
      "source": [
        "# Ismlar\n",
        "names = np.array(['Hasan', 'Husan', 'Mirzabek', 'Elyor', 'Hasan', 'Javohir', 'Elyor'])\n",
        "names"
      ],
      "metadata": {
        "colab": {
          "base_uri": "https://localhost:8080/"
        },
        "id": "KEhPaYiOjOk9",
        "outputId": "4bcf23cf-5d0c-4d40-bf43-9ca23be71d90"
      },
      "execution_count": 2,
      "outputs": [
        {
          "output_type": "execute_result",
          "data": {
            "text/plain": [
              "array(['Hasan', 'Husan', 'Mirzabek', 'Elyor', 'Hasan', 'Javohir', 'Elyor'],\n",
              "      dtype='<U8')"
            ]
          },
          "metadata": {},
          "execution_count": 2
        }
      ]
    },
    {
      "cell_type": "code",
      "source": [
        "# data\n",
        "data = np.random.randn(7, 4)\n",
        "data"
      ],
      "metadata": {
        "colab": {
          "base_uri": "https://localhost:8080/"
        },
        "id": "ekcHTdu4jujU",
        "outputId": "91cff66a-896d-432c-8e08-1218479e9d84"
      },
      "execution_count": 3,
      "outputs": [
        {
          "output_type": "execute_result",
          "data": {
            "text/plain": [
              "array([[ 0.85706478,  1.00899901,  0.8611106 , -0.55620143],\n",
              "       [-0.17415296, -1.07748514,  1.6470606 ,  0.15853106],\n",
              "       [ 0.81022672, -1.25525208,  1.22975009, -0.67877846],\n",
              "       [ 0.8005441 ,  0.87584822,  0.12143217,  0.09481701],\n",
              "       [-1.44562835, -1.07261439,  1.14637094,  0.3210454 ],\n",
              "       [ 1.89597379, -0.55003678,  1.45228816, -0.17038429],\n",
              "       [ 1.34869467, -0.88933265, -0.29275045,  1.61780311]])"
            ]
          },
          "metadata": {},
          "execution_count": 3
        }
      ]
    },
    {
      "cell_type": "code",
      "source": [
        "names == 'Hasan'"
      ],
      "metadata": {
        "colab": {
          "base_uri": "https://localhost:8080/"
        },
        "id": "oVzON0KTj0iy",
        "outputId": "7eed2316-7d12-4acc-d564-9f337b112ee5"
      },
      "execution_count": 4,
      "outputs": [
        {
          "output_type": "execute_result",
          "data": {
            "text/plain": [
              "array([ True, False, False, False,  True, False, False])"
            ]
          },
          "metadata": {},
          "execution_count": 4
        }
      ]
    },
    {
      "cell_type": "code",
      "source": [
        "data[names == 'Hasan'] # Hasanga tegishli barcha ma'lumotlarni ajratib olish"
      ],
      "metadata": {
        "colab": {
          "base_uri": "https://localhost:8080/"
        },
        "id": "IE2nOhNXkgLP",
        "outputId": "fd309b98-73e1-4171-ec70-84e337011a9c"
      },
      "execution_count": 5,
      "outputs": [
        {
          "output_type": "execute_result",
          "data": {
            "text/plain": [
              "array([[ 0.85706478,  1.00899901,  0.8611106 , -0.55620143],\n",
              "       [-1.44562835, -1.07261439,  1.14637094,  0.3210454 ]])"
            ]
          },
          "metadata": {},
          "execution_count": 5
        }
      ]
    },
    {
      "cell_type": "code",
      "source": [
        "data[names == 'Elyor'] # Elyorga tegishli barcha ma'lumotlarni ajratib olish"
      ],
      "metadata": {
        "colab": {
          "base_uri": "https://localhost:8080/"
        },
        "id": "gAYGg-rzkoq5",
        "outputId": "60ac3a05-16cb-41f5-887b-24821490f997"
      },
      "execution_count": 6,
      "outputs": [
        {
          "output_type": "execute_result",
          "data": {
            "text/plain": [
              "array([[ 0.8005441 ,  0.87584822,  0.12143217,  0.09481701],\n",
              "       [ 1.34869467, -0.88933265, -0.29275045,  1.61780311]])"
            ]
          },
          "metadata": {},
          "execution_count": 6
        }
      ]
    },
    {
      "cell_type": "code",
      "source": [
        "data[names == 'Hasan', 2:] # Hasanga tegishli oxirgi ikkita ustundagi ma'lumotlarni ajratib olish"
      ],
      "metadata": {
        "colab": {
          "base_uri": "https://localhost:8080/"
        },
        "id": "kcydutj7ksw3",
        "outputId": "181341d6-69f4-43a8-9afe-ef00153f1752"
      },
      "execution_count": 11,
      "outputs": [
        {
          "output_type": "execute_result",
          "data": {
            "text/plain": [
              "array([[ 0.8611106 , -0.55620143],\n",
              "       [ 1.14637094,  0.3210454 ]])"
            ]
          },
          "metadata": {},
          "execution_count": 11
        }
      ]
    },
    {
      "cell_type": "code",
      "source": [
        "data[names != 'Hasan'] # (!=)Hasandan tashqari barcha insonlarning ma'lumotlarni ajratib olish"
      ],
      "metadata": {
        "colab": {
          "base_uri": "https://localhost:8080/"
        },
        "id": "JDYxufotllRr",
        "outputId": "56d5927d-cf4a-434a-f030-7f9a956c707e"
      },
      "execution_count": 12,
      "outputs": [
        {
          "output_type": "execute_result",
          "data": {
            "text/plain": [
              "array([[-0.17415296, -1.07748514,  1.6470606 ,  0.15853106],\n",
              "       [ 0.81022672, -1.25525208,  1.22975009, -0.67877846],\n",
              "       [ 0.8005441 ,  0.87584822,  0.12143217,  0.09481701],\n",
              "       [ 1.89597379, -0.55003678,  1.45228816, -0.17038429],\n",
              "       [ 1.34869467, -0.88933265, -0.29275045,  1.61780311]])"
            ]
          },
          "metadata": {},
          "execution_count": 12
        }
      ]
    },
    {
      "cell_type": "code",
      "source": [
        "data[~(names=='Hasan')] # yuqoridagi cell bilan bir xil natijani berar ekan"
      ],
      "metadata": {
        "colab": {
          "base_uri": "https://localhost:8080/"
        },
        "id": "JCjpw7Y0mJBd",
        "outputId": "40b8a1d2-e90c-4a18-940b-eb99cd59d247"
      },
      "execution_count": 13,
      "outputs": [
        {
          "output_type": "execute_result",
          "data": {
            "text/plain": [
              "array([[-0.17415296, -1.07748514,  1.6470606 ,  0.15853106],\n",
              "       [ 0.81022672, -1.25525208,  1.22975009, -0.67877846],\n",
              "       [ 0.8005441 ,  0.87584822,  0.12143217,  0.09481701],\n",
              "       [ 1.89597379, -0.55003678,  1.45228816, -0.17038429],\n",
              "       [ 1.34869467, -0.88933265, -0.29275045,  1.61780311]])"
            ]
          },
          "metadata": {},
          "execution_count": 13
        }
      ]
    },
    {
      "cell_type": "code",
      "source": [
        "print(names)\n",
        "print(data)"
      ],
      "metadata": {
        "colab": {
          "base_uri": "https://localhost:8080/"
        },
        "id": "_fuoacgfmPjy",
        "outputId": "b21dbfbc-79ed-4555-d976-4c22ff473a5f"
      },
      "execution_count": 14,
      "outputs": [
        {
          "output_type": "stream",
          "name": "stdout",
          "text": [
            "['Hasan' 'Husan' 'Mirzabek' 'Elyor' 'Hasan' 'Javohir' 'Elyor']\n",
            "[[ 0.85706478  1.00899901  0.8611106  -0.55620143]\n",
            " [-0.17415296 -1.07748514  1.6470606   0.15853106]\n",
            " [ 0.81022672 -1.25525208  1.22975009 -0.67877846]\n",
            " [ 0.8005441   0.87584822  0.12143217  0.09481701]\n",
            " [-1.44562835 -1.07261439  1.14637094  0.3210454 ]\n",
            " [ 1.89597379 -0.55003678  1.45228816 -0.17038429]\n",
            " [ 1.34869467 -0.88933265 -0.29275045  1.61780311]]\n"
          ]
        }
      ]
    },
    {
      "cell_type": "code",
      "source": [
        "mask = (names == 'Hasan') | (names == 'Husan') # \"|\" - or(yoki)\n",
        "mask"
      ],
      "metadata": {
        "colab": {
          "base_uri": "https://localhost:8080/"
        },
        "id": "39b6RUw-m8kQ",
        "outputId": "0da00572-80d6-4b8c-c874-3988b0a1dc5b"
      },
      "execution_count": 16,
      "outputs": [
        {
          "output_type": "execute_result",
          "data": {
            "text/plain": [
              "array([ True,  True, False, False,  True, False, False])"
            ]
          },
          "metadata": {},
          "execution_count": 16
        }
      ]
    },
    {
      "cell_type": "code",
      "source": [
        "data[mask] # Hasan va Husanga tegishli ma'lumotlarni ajratib olish"
      ],
      "metadata": {
        "colab": {
          "base_uri": "https://localhost:8080/"
        },
        "id": "teJVTSvCnLAI",
        "outputId": "20605a53-7713-4a1a-e588-a97386a90a6b"
      },
      "execution_count": 17,
      "outputs": [
        {
          "output_type": "execute_result",
          "data": {
            "text/plain": [
              "array([[ 0.85706478,  1.00899901,  0.8611106 , -0.55620143],\n",
              "       [-0.17415296, -1.07748514,  1.6470606 ,  0.15853106],\n",
              "       [-1.44562835, -1.07261439,  1.14637094,  0.3210454 ]])"
            ]
          },
          "metadata": {},
          "execution_count": 17
        }
      ]
    },
    {
      "cell_type": "code",
      "source": [
        "data"
      ],
      "metadata": {
        "colab": {
          "base_uri": "https://localhost:8080/"
        },
        "id": "I3Oji2rznWKi",
        "outputId": "7fa1856a-fd87-465a-ed58-b2e926dee874"
      },
      "execution_count": 18,
      "outputs": [
        {
          "output_type": "execute_result",
          "data": {
            "text/plain": [
              "array([[ 0.85706478,  1.00899901,  0.8611106 , -0.55620143],\n",
              "       [-0.17415296, -1.07748514,  1.6470606 ,  0.15853106],\n",
              "       [ 0.81022672, -1.25525208,  1.22975009, -0.67877846],\n",
              "       [ 0.8005441 ,  0.87584822,  0.12143217,  0.09481701],\n",
              "       [-1.44562835, -1.07261439,  1.14637094,  0.3210454 ],\n",
              "       [ 1.89597379, -0.55003678,  1.45228816, -0.17038429],\n",
              "       [ 1.34869467, -0.88933265, -0.29275045,  1.61780311]])"
            ]
          },
          "metadata": {},
          "execution_count": 18
        }
      ]
    },
    {
      "cell_type": "code",
      "source": [
        "data[data<0]"
      ],
      "metadata": {
        "colab": {
          "base_uri": "https://localhost:8080/"
        },
        "id": "MGKrUjflnm0e",
        "outputId": "8f0a85b0-6f11-4a78-e524-c20ceff0aee8"
      },
      "execution_count": 19,
      "outputs": [
        {
          "output_type": "execute_result",
          "data": {
            "text/plain": [
              "array([-0.55620143, -0.17415296, -1.07748514, -1.25525208, -0.67877846,\n",
              "       -1.44562835, -1.07261439, -0.55003678, -0.17038429, -0.88933265,\n",
              "       -0.29275045])"
            ]
          },
          "metadata": {},
          "execution_count": 19
        }
      ]
    },
    {
      "cell_type": "code",
      "source": [
        "data[data<0] = 0\n",
        "data"
      ],
      "metadata": {
        "colab": {
          "base_uri": "https://localhost:8080/"
        },
        "id": "FHNigN_nnqyu",
        "outputId": "c69e0d0b-6311-46a3-8fb1-554233e00c28"
      },
      "execution_count": 22,
      "outputs": [
        {
          "output_type": "execute_result",
          "data": {
            "text/plain": [
              "array([[0.85706478, 1.00899901, 0.8611106 , 0.        ],\n",
              "       [0.        , 0.        , 1.6470606 , 0.15853106],\n",
              "       [0.81022672, 0.        , 1.22975009, 0.        ],\n",
              "       [0.8005441 , 0.87584822, 0.12143217, 0.09481701],\n",
              "       [0.        , 0.        , 1.14637094, 0.3210454 ],\n",
              "       [1.89597379, 0.        , 1.45228816, 0.        ],\n",
              "       [1.34869467, 0.        , 0.        , 1.61780311]])"
            ]
          },
          "metadata": {},
          "execution_count": 22
        }
      ]
    },
    {
      "cell_type": "markdown",
      "source": [
        "2-AMALIY VAZIFA"
      ],
      "metadata": {
        "id": "oBVUhDQToKbo"
      }
    },
    {
      "cell_type": "markdown",
      "source": [
        "Masala(1): 2-o'lchamli massiv yaratish\n",
        "\n",
        "Masala sharti : Elementlari 0 dan 9 gacha (9 ning o'zi massiv elementiga kirmaydi), qadami esa 1 ga teng bo'lgan (3, 3) o'lchamli massiv yaratuvchi funksiyani davom ettiring.\n",
        "\n",
        "Yordam : arangedan foydalanish ishni osonlashtiradi"
      ],
      "metadata": {
        "id": "bpAFdQiEoMVq"
      }
    },
    {
      "cell_type": "code",
      "source": [
        "# JAVOBNI SHU YERGA YOZING\n",
        "def nd_array():\n",
        "  \"\"\"Elementlari 0 dan 9 gacha (9 ning o'zi massiv elementiga kirmaydi),\n",
        "  qadami esa 1 ga teng bo'lgan (3, 3) o'lchamli massiv \"\"\"\n",
        "  arr = np.arange(9).reshape(3, 3)\n",
        "  return arr\n",
        "nd_array()"
      ],
      "metadata": {
        "colab": {
          "base_uri": "https://localhost:8080/"
        },
        "id": "z4fImfxeoX1C",
        "outputId": "6e247cde-6f57-4961-eb2b-3b05bab1ed9f"
      },
      "execution_count": 33,
      "outputs": [
        {
          "output_type": "execute_result",
          "data": {
            "text/plain": [
              "array([[0, 1, 2],\n",
              "       [3, 4, 5],\n",
              "       [6, 7, 8]])"
            ]
          },
          "metadata": {},
          "execution_count": 33
        }
      ]
    },
    {
      "cell_type": "code",
      "source": [
        "#@title Tekshirish (natijada hech qanday xatolik yuz bermasligi kerak)\n",
        "\"\"\"Funksiyani tekshirish\"\"\"\n",
        "arr = nd_array() # massiv\n",
        "assert arr.size == 9, f\"elementlar sonida xatolik mavjud\"  # elementlar soni\n",
        "assert type(arr) == np.ndarray, f\"massiv aniqlanmadi\" #numpy array\n",
        "# elementwise test\n",
        "test_arr = np.arange(9).reshape(3, 3)\n",
        "assert arr.shape == (3, 3), f\"noto'g'ri qator va ustunlardan foydalanilgan\"\n",
        "assert True in np.in1d(arr, test_arr), f\"elementlararo xatolik mavjud\""
      ],
      "metadata": {
        "id": "DQOgZrY4p8fa"
      },
      "execution_count": 28,
      "outputs": []
    },
    {
      "cell_type": "markdown",
      "source": [
        "# Masala(2): Indeks yordamida 2-o'lchamli massivlardan elementlarni kesib olish\n",
        "Masala : Yuqorida yaratilgan massivning elementlari 6 va 7 ga teng bo'lgan qismini kesib olish funksiyasini davom ettiring.\n",
        "\n",
        "Yordam : 6 va 7 turgan indekslarni aniqlab olib, shu indekslar yordamida kesib oling. Natija: array([6, 7]) ko'rinishida bo'lishi kerak.**bold text**"
      ],
      "metadata": {
        "id": "w7YvNenKrq4d"
      }
    },
    {
      "cell_type": "code",
      "source": [
        "# JAVOBNI SHU YERGA YOZING\n",
        "def sliced_array_2d():\n",
        "    \"\"\"Yuqorida yaratilgan massivning elementlari 6 va 7 ga teng bo'lgan\n",
        "     qismini kesib olish funksiyasi \"\"\"\n",
        "    arr = nd_array() # yuqoridagi funksiya yordamida array yaratib olish\n",
        "    return arr[2, :2]\n",
        "sliced_array_2d()"
      ],
      "metadata": {
        "colab": {
          "base_uri": "https://localhost:8080/"
        },
        "id": "ZeLyOuz9rxtU",
        "outputId": "f46abcd1-62c5-4993-d99f-a6982c396db5"
      },
      "execution_count": 35,
      "outputs": [
        {
          "output_type": "execute_result",
          "data": {
            "text/plain": [
              "array([6, 7])"
            ]
          },
          "metadata": {},
          "execution_count": 35
        }
      ]
    },
    {
      "cell_type": "code",
      "source": [
        "#@title Tekshirish (natijada hech qanday xatolik yuz bermasligi kerak)\n",
        "\"\"\"Funksiyani tekshirish\"\"\"\n",
        "sl_arr_2d = sliced_array_2d() # kesib olingan massiv\n",
        "assert sl_arr_2d.size == 2, f\"elementlar sonida xatolik mavjud\"  # elementlar soni\n",
        "assert type(sl_arr_2d) == np.ndarray, f\"massiv aniqlanmadi\" #numpy array\n",
        "# elementwise test\n",
        "test_arr = np.array([6, 7])\n",
        "assert sl_arr_2d.shape == (2,), f\"kesib olingan massiv shaklida xatolik mavjud\"\n",
        "assert True in np.in1d(sl_arr_2d, test_arr), f\"elementlararo xatolik mavjud\""
      ],
      "metadata": {
        "id": "3Gz9S_eTseGe"
      },
      "execution_count": 39,
      "outputs": []
    },
    {
      "cell_type": "markdown",
      "source": [
        "# Masala(3): Indeks yordamida 3-o'lchamli massivdan elementlarni kesib olish\n",
        "Masala : 3-o'lchamli massivni quyidagi listdan yarating, hamda 12, 13, 15, va 16 elementlarini kesib oluvchi funksiyani davom ettiring."
      ],
      "metadata": {
        "id": "Pq-NdHRZs39p"
      }
    },
    {
      "cell_type": "code",
      "source": [
        "# JAVOBNI SHU YERGA YOZING\n",
        "def sliced_array_3d():\n",
        "    \"\"\"3-o'lchamli massivni yuqoridagi listdan yaratish,\n",
        "    hamda 12, 13, 15, va 16 elementlarini kesib olish funksiyasi\"\"\"\n",
        "    arr3d = np.array([[[ 0,  1,  2],\n",
        "                    [ 3,  4,  5],\n",
        "                    [ 6,  7,  8]],\n",
        "\n",
        "                  [[ 9, 10, 11],\n",
        "                    [12, 13, 14],\n",
        "                    [15, 16, 17]],\n",
        "\n",
        "                  [[18, 19, 20],\n",
        "                    [21, 22, 23],\n",
        "                    [24, 25, 26]]])\n",
        "    return arr3d[1][1:, :2]\n",
        "sliced_array_3d()"
      ],
      "metadata": {
        "colab": {
          "base_uri": "https://localhost:8080/"
        },
        "id": "-CsefDgbs7X5",
        "outputId": "2abcf708-f9c3-44c4-c036-6c4b114739a7"
      },
      "execution_count": 44,
      "outputs": [
        {
          "output_type": "execute_result",
          "data": {
            "text/plain": [
              "array([[12, 13],\n",
              "       [15, 16]])"
            ]
          },
          "metadata": {},
          "execution_count": 44
        }
      ]
    },
    {
      "cell_type": "code",
      "source": [
        "#@title Tekshirish (natijada hech qanday xatolik yuz bermasligi kerak)\n",
        "\"\"\"Funksiyani tekshirish\"\"\"\n",
        "sl_arr_3d = sliced_array_3d() # kesib olingan massiv\n",
        "assert sl_arr_3d.size == 4, f\"kesib olingan elementlar sonida xatolik\" # elementlar soni\n",
        "assert type(sl_arr_3d) == np.ndarray, f\"massiv aniqlanmadi\" #numpy array\n",
        "# elementwise test\n",
        "test_arr = np.array([[12, 13],\n",
        "                     [15, 16]])\n",
        "assert sl_arr_3d.shape == (2,2), f\"kesib olingan massiv shaklida xatolik mavjud\"\n",
        "assert True in np.in1d(sl_arr_3d, test_arr), f\"elemtlararo xatolik mavjud\""
      ],
      "metadata": {
        "id": "5Z7_QeC0uVRS"
      },
      "execution_count": 45,
      "outputs": []
    },
    {
      "cell_type": "markdown",
      "source": [
        "# Masala(4): Boolean indeks yordamida 2-o'lchamli massivlardan elementlarni kesib olish\n",
        "Masala : Bizlarda,\n",
        "Mana shu ma'lumotlardan Javohir va Elyor ismlariga tegishli ma'lumotlarni Boolean indekslash yordamida kesib olish funksiyasini davom ettiring. Yordam : Boolean indekslash video darsligiga murojat qiling. Natija: Natija (4, 4) o'lchamli massiv ko'rinishida, hamda dastlabki ikkita qattori quyidagicha"
      ],
      "metadata": {
        "id": "QepZhsKru2wP"
      }
    },
    {
      "cell_type": "code",
      "source": [
        "# JAVOBNI SHU YERGA YOZING\n",
        "def boolean_slicing():\n",
        "    \"\"\"Boolean indekslash yordamida ma'lumotlarni kesib olish \"\"\"\n",
        "    names = np.array(['Hasan', 'Husan', 'Javohir', 'Elyor', 'Hasan', 'Javohir', 'Elyor'])\n",
        "    data = np.array([[5, 6, 1, 1],\n",
        "                     [9, 1, 1, 1],\n",
        "                     [7, 7, 4, 2],\n",
        "                     [1, 5, 1, 9],\n",
        "                     [9, 9, 4, 5],\n",
        "                     [7, 5, 9, 6],\n",
        "                     [5, 3, 7, 4]])\n",
        "    mask = (names == 'Javohir') | (names == 'Elyor')\n",
        "    return data[mask]\n",
        "boolean_slicing()"
      ],
      "metadata": {
        "colab": {
          "base_uri": "https://localhost:8080/"
        },
        "id": "EV60Pietu5ZQ",
        "outputId": "bcd72f94-f976-41e4-f55c-b871de5354be"
      },
      "execution_count": 50,
      "outputs": [
        {
          "output_type": "execute_result",
          "data": {
            "text/plain": [
              "array([[7, 7, 4, 2],\n",
              "       [1, 5, 1, 9],\n",
              "       [7, 5, 9, 6],\n",
              "       [5, 3, 7, 4]])"
            ]
          },
          "metadata": {},
          "execution_count": 50
        }
      ]
    },
    {
      "cell_type": "code",
      "source": [
        "#@title Tekshirish (natijada hech qanday xatolik yuz bermasligi kerak)\n",
        "\"\"\"Funksiyani tekshirish\"\"\"\n",
        "bool_idx = boolean_slicing() # kesib olingan massiv\n",
        "assert bool_idx.size == 16, f\"kesib olingan elementlar sonida xatolik mavjud\"  # elementlar soni\n",
        "assert type(bool_idx) == np.ndarray, f\"massiv aniqlanmadi\" #numpy array\n",
        "print(type(bool_idx) == np.ndarray)\n",
        "# elementwise test\n",
        "test_arr = np.array([[7, 7, 4, 2],\n",
        "                     [1, 5, 1, 9],\n",
        "                     [7, 5, 9, 6],\n",
        "                     [5, 3, 7, 4]])\n",
        "assert bool_idx.shape == (4,4), f\"kesib olingan massiv shaklida xatolik mavjud\"\n",
        "print(bool_idx.shape == (4,4))\n",
        "assert True in np.in1d(bool_idx, test_arr), f\"elemetlararo xatolik mavjud\"\n",
        "print(True in np.in1d(bool_idx, test_arr))"
      ],
      "metadata": {
        "colab": {
          "base_uri": "https://localhost:8080/"
        },
        "id": "wLzd-LU_xiSR",
        "outputId": "ebcf24ce-7fdf-4194-e192-7d6c1df582ed"
      },
      "execution_count": 60,
      "outputs": [
        {
          "output_type": "stream",
          "name": "stdout",
          "text": [
            "True\n",
            "True\n",
            "True\n"
          ]
        }
      ]
    }
  ]
}