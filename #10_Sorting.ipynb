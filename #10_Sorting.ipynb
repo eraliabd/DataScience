{
  "nbformat": 4,
  "nbformat_minor": 0,
  "metadata": {
    "colab": {
      "provenance": [],
      "toc_visible": true,
      "authorship_tag": "ABX9TyNvFeJlp2VXc9z55vOC5rnq",
      "include_colab_link": true
    },
    "kernelspec": {
      "name": "python3",
      "display_name": "Python 3"
    },
    "language_info": {
      "name": "python"
    }
  },
  "cells": [
    {
      "cell_type": "markdown",
      "metadata": {
        "id": "view-in-github",
        "colab_type": "text"
      },
      "source": [
        "<a href=\"https://colab.research.google.com/github/eraliabd/DataScience/blob/main/%2310_Sorting.ipynb\" target=\"_parent\"><img src=\"https://colab.research.google.com/assets/colab-badge.svg\" alt=\"Open In Colab\"/></a>"
      ]
    },
    {
      "cell_type": "markdown",
      "source": [
        "# **Ma'lumotlar tahlili. (NumPy kutubxonasi)**"
      ],
      "metadata": {
        "id": "CcDShelzsTgm"
      }
    },
    {
      "cell_type": "markdown",
      "source": [
        "# **NumPy kutubxonasi bilan ishlash**"
      ],
      "metadata": {
        "id": "QoIcczcaPUs4"
      }
    },
    {
      "cell_type": "markdown",
      "source": [
        " NumPy kutubxonasini chaqirib olish."
      ],
      "metadata": {
        "id": "K3rW0nynIQ33"
      }
    },
    {
      "cell_type": "code",
      "source": [
        "import numpy as np"
      ],
      "metadata": {
        "id": "7FvD8M-PIX2C"
      },
      "execution_count": 1,
      "outputs": []
    },
    {
      "cell_type": "markdown",
      "source": [
        "# Massivga yo'naltirilgan dasturlash"
      ],
      "metadata": {
        "id": "2h-jeZ3QCyDO"
      }
    },
    {
      "cell_type": "markdown",
      "source": [
        "### Tartiblash (Sorting)"
      ],
      "metadata": {
        "id": "e6PD_yjiC2Hf"
      }
    },
    {
      "cell_type": "code",
      "source": [
        "# data\n",
        "arr = np.random.rand(4) # 4 ta taxminiy elementlardan tashkil topgan massiv\n",
        "arr"
      ],
      "metadata": {
        "colab": {
          "base_uri": "https://localhost:8080/"
        },
        "id": "fHB2JSzgOXMM",
        "outputId": "68fdab2e-ba0f-4c05-c5e7-c8195e273ed4"
      },
      "execution_count": 2,
      "outputs": [
        {
          "output_type": "execute_result",
          "data": {
            "text/plain": [
              "array([0.63997578, 0.41364701, 0.89964514, 0.17570499])"
            ]
          },
          "metadata": {},
          "execution_count": 2
        }
      ]
    },
    {
      "cell_type": "markdown",
      "source": [
        "`sort` metodi"
      ],
      "metadata": {
        "id": "-hYQdPDxPPRz"
      }
    },
    {
      "cell_type": "code",
      "source": [
        "# 1-usul\n",
        "sorted_arr = np.sort(arr) # arr massivni tartiblangan ko'rinishini sorted_arr joylaydi\n",
        "sorted_arr"
      ],
      "metadata": {
        "colab": {
          "base_uri": "https://localhost:8080/"
        },
        "id": "TQsVE9F3PR7z",
        "outputId": "e8648999-5185-44d1-e12e-be6a9a4a30b9"
      },
      "execution_count": 4,
      "outputs": [
        {
          "output_type": "execute_result",
          "data": {
            "text/plain": [
              "array([0.17570499, 0.41364701, 0.63997578, 0.89964514])"
            ]
          },
          "metadata": {},
          "execution_count": 4
        }
      ]
    },
    {
      "cell_type": "code",
      "source": [
        "# 2-usul\n",
        "arr.sort()\n",
        "arr"
      ],
      "metadata": {
        "colab": {
          "base_uri": "https://localhost:8080/"
        },
        "id": "JfFNk8Q7PjFc",
        "outputId": "37fdf9e0-95d6-4926-c350-458bd15f2a13"
      },
      "execution_count": 6,
      "outputs": [
        {
          "output_type": "execute_result",
          "data": {
            "text/plain": [
              "array([0.17570499, 0.41364701, 0.63997578, 0.89964514])"
            ]
          },
          "metadata": {},
          "execution_count": 6
        }
      ]
    },
    {
      "cell_type": "code",
      "source": [
        "# teskari tartiblash\n",
        "rev_arr = -np.sort(-arr)\n",
        "rev_arr"
      ],
      "metadata": {
        "colab": {
          "base_uri": "https://localhost:8080/"
        },
        "id": "KHK3XthSQE5d",
        "outputId": "c2db14c7-5337-4c88-f27e-f87b7d4573ad"
      },
      "execution_count": 7,
      "outputs": [
        {
          "output_type": "execute_result",
          "data": {
            "text/plain": [
              "array([0.89964514, 0.63997578, 0.41364701, 0.17570499])"
            ]
          },
          "metadata": {},
          "execution_count": 7
        }
      ]
    },
    {
      "cell_type": "code",
      "source": [
        "# 2D array (massiv)\n",
        "arr2d = np.random.randn(2, 4) # (2, 4) random massiv\n",
        "arr2d"
      ],
      "metadata": {
        "colab": {
          "base_uri": "https://localhost:8080/"
        },
        "id": "y743wTw6QO3_",
        "outputId": "fbdfb16d-838a-4951-fe55-c00b46b211ba"
      },
      "execution_count": 10,
      "outputs": [
        {
          "output_type": "execute_result",
          "data": {
            "text/plain": [
              "array([[-0.52158125,  0.54953608, -0.64945112,  0.95900577],\n",
              "       [ 0.22669741,  1.17087124,  0.57546169,  1.28169763]])"
            ]
          },
          "metadata": {},
          "execution_count": 10
        }
      ]
    },
    {
      "cell_type": "code",
      "source": [
        "# axis = 0 ---> Qator\n",
        "row_srt = np.sort(arr2d, axis=0) # 2d array ning har bir qatori bo'yicha tartiblangan ko'rinishi\n",
        "row_srt"
      ],
      "metadata": {
        "colab": {
          "base_uri": "https://localhost:8080/"
        },
        "id": "SqAfziwvRKBB",
        "outputId": "92618fd0-4e68-42a1-fe9e-8b3c243d7dae"
      },
      "execution_count": 13,
      "outputs": [
        {
          "output_type": "execute_result",
          "data": {
            "text/plain": [
              "array([[-0.52158125,  0.54953608, -0.64945112,  0.95900577],\n",
              "       [ 0.22669741,  1.17087124,  0.57546169,  1.28169763]])"
            ]
          },
          "metadata": {},
          "execution_count": 13
        }
      ]
    },
    {
      "cell_type": "code",
      "source": [
        "# axis = 1 ---> Ustun\n",
        "col_srt = np.sort(arr2d, axis=1) # 2d array ning har bir ustuni bo'yicha tartiblangan ko'rinishi\n",
        "col_srt"
      ],
      "metadata": {
        "colab": {
          "base_uri": "https://localhost:8080/"
        },
        "id": "mGKLVW8DRYXq",
        "outputId": "bff4d4e3-fcfa-45fa-dd7d-f267be3be457"
      },
      "execution_count": 14,
      "outputs": [
        {
          "output_type": "execute_result",
          "data": {
            "text/plain": [
              "array([[-0.64945112, -0.52158125,  0.54953608,  0.95900577],\n",
              "       [ 0.22669741,  0.57546169,  1.17087124,  1.28169763]])"
            ]
          },
          "metadata": {},
          "execution_count": 14
        }
      ]
    }
  ]
}