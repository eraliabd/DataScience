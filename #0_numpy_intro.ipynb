{
  "nbformat": 4,
  "nbformat_minor": 0,
  "metadata": {
    "colab": {
      "provenance": [],
      "toc_visible": true,
      "authorship_tag": "ABX9TyOm4kUAw903NdY+M+LOVo6f",
      "include_colab_link": true
    },
    "kernelspec": {
      "name": "python3",
      "display_name": "Python 3"
    },
    "language_info": {
      "name": "python"
    }
  },
  "cells": [
    {
      "cell_type": "markdown",
      "metadata": {
        "id": "view-in-github",
        "colab_type": "text"
      },
      "source": [
        "<a href=\"https://colab.research.google.com/github/eraliabd/DataScience/blob/main/%230_numpy_intro.ipynb\" target=\"_parent\"><img src=\"https://colab.research.google.com/assets/colab-badge.svg\" alt=\"Open In Colab\"/></a>"
      ]
    },
    {
      "cell_type": "markdown",
      "source": [
        "# **Ma'lumotlar tahlili. (NumPy kutubxonasi)**"
      ],
      "metadata": {
        "id": "CcDShelzsTgm"
      }
    },
    {
      "cell_type": "markdown",
      "source": [
        "# **List va Array**\n",
        "\n"
      ],
      "metadata": {
        "id": "IjOY4uShvwaV"
      }
    },
    {
      "cell_type": "code",
      "execution_count": 1,
      "metadata": {
        "id": "UiRsKorooO0i"
      },
      "outputs": [],
      "source": [
        "# @title NumPy kutubxonasini chaqirib olish.\n",
        "import numpy as np"
      ]
    },
    {
      "cell_type": "markdown",
      "source": [
        "Python list bilan NumPy kutubxonasidagi massivlar(arraylar) hisoblashlari orasidagi farqni ko'ramiz"
      ],
      "metadata": {
        "id": "F8WJb1kwteup"
      }
    },
    {
      "cell_type": "code",
      "source": [
        "my_list = list(range(100000)) # python list 0~99999 ---> Normal\n",
        "my_array = np.array(range(100000)) # numpy array(massiv) 0~99999 ---> Vektorlashgan"
      ],
      "metadata": {
        "id": "xUcA1W7HtuEB"
      },
      "execution_count": 2,
      "outputs": []
    },
    {
      "cell_type": "code",
      "source": [
        "%time for _ in range(10): [x*2 for x in my_list] # Normal"
      ],
      "metadata": {
        "colab": {
          "base_uri": "https://localhost:8080/"
        },
        "id": "WSWKwCbzufK_",
        "outputId": "20435df0-ba12-4596-d267-b880028da9d1"
      },
      "execution_count": 8,
      "outputs": [
        {
          "output_type": "stream",
          "name": "stdout",
          "text": [
            "CPU times: user 72.6 ms, sys: 0 ns, total: 72.6 ms\n",
            "Wall time: 73.7 ms\n"
          ]
        }
      ]
    },
    {
      "cell_type": "code",
      "source": [
        "%time for _ in range(10): my_array*2 # Vektorlashgan"
      ],
      "metadata": {
        "colab": {
          "base_uri": "https://localhost:8080/"
        },
        "id": "YqTqstfwvLKY",
        "outputId": "36ba57bd-951e-4bd5-c4ea-50e0ee914c2d"
      },
      "execution_count": 9,
      "outputs": [
        {
          "output_type": "stream",
          "name": "stdout",
          "text": [
            "CPU times: user 2.15 ms, sys: 12 µs, total: 2.17 ms\n",
            "Wall time: 1.9 ms\n"
          ]
        }
      ]
    },
    {
      "cell_type": "code",
      "source": [
        "73.7/1.9"
      ],
      "metadata": {
        "colab": {
          "base_uri": "https://localhost:8080/"
        },
        "id": "_fr7Xj0ovWlm",
        "outputId": "6e685a48-a9f8-457b-97c1-257a5535d2c4"
      },
      "execution_count": 10,
      "outputs": [
        {
          "output_type": "execute_result",
          "data": {
            "text/plain": [
              "38.78947368421053"
            ]
          },
          "metadata": {},
          "execution_count": 10
        }
      ]
    }
  ]
}