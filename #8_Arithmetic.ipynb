{
  "nbformat": 4,
  "nbformat_minor": 0,
  "metadata": {
    "colab": {
      "provenance": [],
      "toc_visible": true,
      "authorship_tag": "ABX9TyPrOUQVUR1EAnqik9nbctN4",
      "include_colab_link": true
    },
    "kernelspec": {
      "name": "python3",
      "display_name": "Python 3"
    },
    "language_info": {
      "name": "python"
    }
  },
  "cells": [
    {
      "cell_type": "markdown",
      "metadata": {
        "id": "view-in-github",
        "colab_type": "text"
      },
      "source": [
        "<a href=\"https://colab.research.google.com/github/eraliabd/DataScience/blob/main/%238_Arithmetic.ipynb\" target=\"_parent\"><img src=\"https://colab.research.google.com/assets/colab-badge.svg\" alt=\"Open In Colab\"/></a>"
      ]
    },
    {
      "cell_type": "markdown",
      "source": [
        "# **Ma'lumotlar tahlili. (NumPy kutubxonasi)**"
      ],
      "metadata": {
        "id": "CcDShelzsTgm"
      }
    },
    {
      "cell_type": "markdown",
      "source": [
        "# **NumPy kutubxonasi bilan ishlash**"
      ],
      "metadata": {
        "id": "QoIcczcaPUs4"
      }
    },
    {
      "cell_type": "markdown",
      "source": [
        " NumPy kutubxonasini chaqirib olish."
      ],
      "metadata": {
        "id": "K3rW0nynIQ33"
      }
    },
    {
      "cell_type": "code",
      "source": [
        "import numpy as np"
      ],
      "metadata": {
        "id": "7FvD8M-PIX2C"
      },
      "execution_count": 3,
      "outputs": []
    },
    {
      "cell_type": "markdown",
      "source": [
        "# Massivga yo'naltirilgan dasturlash"
      ],
      "metadata": {
        "id": "2h-jeZ3QCyDO"
      }
    },
    {
      "cell_type": "markdown",
      "source": [
        "### Arifmetik amallar"
      ],
      "metadata": {
        "id": "e6PD_yjiC2Hf"
      }
    },
    {
      "cell_type": "markdown",
      "source": [
        "### Ko'paytirish, bo'lish, qo'shish, ayirish va h.k amallar"
      ],
      "metadata": {
        "id": "P_E-swCWGYvZ"
      }
    },
    {
      "cell_type": "code",
      "source": [
        "# data\n",
        "arr1 = np.arange(6).reshape(2, 3) # 0~6 gach bo'lgan elementlardan tashkil topgan array\n",
        "arr2 = np.arange(6, 12).reshape(2, 3) # 6 dan 11 gacha bo'lgan elementlardan tashkil topgan array"
      ],
      "metadata": {
        "id": "dnVi7oE8GfWD"
      },
      "execution_count": 4,
      "outputs": []
    },
    {
      "cell_type": "code",
      "source": [
        "arr1"
      ],
      "metadata": {
        "colab": {
          "base_uri": "https://localhost:8080/"
        },
        "id": "3BODky8bGiM6",
        "outputId": "2d9a3ba7-09ac-45a6-8eb9-ad78ce2cf7a6"
      },
      "execution_count": 5,
      "outputs": [
        {
          "output_type": "execute_result",
          "data": {
            "text/plain": [
              "array([[0, 1, 2],\n",
              "       [3, 4, 5]])"
            ]
          },
          "metadata": {},
          "execution_count": 5
        }
      ]
    },
    {
      "cell_type": "code",
      "source": [
        "arr2"
      ],
      "metadata": {
        "colab": {
          "base_uri": "https://localhost:8080/"
        },
        "id": "rxdrWtVIGn44",
        "outputId": "1c601253-e356-40c2-d636-1d3c2f3c798e"
      },
      "execution_count": 6,
      "outputs": [
        {
          "output_type": "execute_result",
          "data": {
            "text/plain": [
              "array([[ 6,  7,  8],\n",
              "       [ 9, 10, 11]])"
            ]
          },
          "metadata": {},
          "execution_count": 6
        }
      ]
    },
    {
      "cell_type": "code",
      "source": [
        "# Ko'paytirish\n",
        "arr1 * arr2 # arr1 ning elementlarini arr2 ning mos elementlariga ko'paytirib beradi"
      ],
      "metadata": {
        "colab": {
          "base_uri": "https://localhost:8080/"
        },
        "id": "ufWYS84_Gp8I",
        "outputId": "14429305-1b7e-4450-8f27-a870c94a8d36"
      },
      "execution_count": 7,
      "outputs": [
        {
          "output_type": "execute_result",
          "data": {
            "text/plain": [
              "array([[ 0,  7, 16],\n",
              "       [27, 40, 55]])"
            ]
          },
          "metadata": {},
          "execution_count": 7
        }
      ]
    },
    {
      "cell_type": "code",
      "source": [
        "# bo'lish\n",
        "arr2/arr1 # arr1 ning elementlarini arr2 ning mos elementlariga bo'lib beradi"
      ],
      "metadata": {
        "colab": {
          "base_uri": "https://localhost:8080/"
        },
        "id": "zU04PEVRGtJA",
        "outputId": "0d84d20a-9d1a-4988-a1a7-84528d0404b6"
      },
      "execution_count": 8,
      "outputs": [
        {
          "output_type": "stream",
          "name": "stderr",
          "text": [
            "<ipython-input-8-b0ffd924afb6>:2: RuntimeWarning: divide by zero encountered in divide\n",
            "  arr2/arr1 # arr1 ning elementlarini arr2 ning mos elementlariga bo'lib beradi\n"
          ]
        },
        {
          "output_type": "execute_result",
          "data": {
            "text/plain": [
              "array([[inf, 7. , 4. ],\n",
              "       [3. , 2.5, 2.2]])"
            ]
          },
          "metadata": {},
          "execution_count": 8
        }
      ]
    },
    {
      "cell_type": "code",
      "source": [
        "arr1/arr2"
      ],
      "metadata": {
        "colab": {
          "base_uri": "https://localhost:8080/"
        },
        "id": "3vAZt0u-Gw8J",
        "outputId": "e5351950-2cfe-4b01-cee9-74d0d1af64b9"
      },
      "execution_count": 9,
      "outputs": [
        {
          "output_type": "execute_result",
          "data": {
            "text/plain": [
              "array([[0.        , 0.14285714, 0.25      ],\n",
              "       [0.33333333, 0.4       , 0.45454545]])"
            ]
          },
          "metadata": {},
          "execution_count": 9
        }
      ]
    },
    {
      "cell_type": "code",
      "source": [
        "# qo'shish\n",
        "arr1 + arr2 # arr1 ning elementlarini arr2 ning mos elementlariga qo'shib beradi"
      ],
      "metadata": {
        "colab": {
          "base_uri": "https://localhost:8080/"
        },
        "id": "C1ujo1z1G1AA",
        "outputId": "e054a009-3596-4934-89d7-6962e8562000"
      },
      "execution_count": 10,
      "outputs": [
        {
          "output_type": "execute_result",
          "data": {
            "text/plain": [
              "array([[ 6,  8, 10],\n",
              "       [12, 14, 16]])"
            ]
          },
          "metadata": {},
          "execution_count": 10
        }
      ]
    },
    {
      "cell_type": "code",
      "source": [
        "# ayirish\n",
        "arr2 - arr1 # arr2 ning elementlaridan arr1 mos elementlarini ayirish"
      ],
      "metadata": {
        "colab": {
          "base_uri": "https://localhost:8080/"
        },
        "id": "Zu2L1Jz0G9AV",
        "outputId": "8282d24e-019c-4fde-90ba-724493dfa774"
      },
      "execution_count": 11,
      "outputs": [
        {
          "output_type": "execute_result",
          "data": {
            "text/plain": [
              "array([[6, 6, 6],\n",
              "       [6, 6, 6]])"
            ]
          },
          "metadata": {},
          "execution_count": 11
        }
      ]
    },
    {
      "cell_type": "code",
      "source": [
        "# kvadratga oshirish (square)\n",
        "arr1**2"
      ],
      "metadata": {
        "colab": {
          "base_uri": "https://localhost:8080/"
        },
        "id": "cop00TR1G_i9",
        "outputId": "3bd0b43c-14a0-4fc4-b964-826293d587dd"
      },
      "execution_count": 12,
      "outputs": [
        {
          "output_type": "execute_result",
          "data": {
            "text/plain": [
              "array([[ 0,  1,  4],\n",
              "       [ 9, 16, 25]])"
            ]
          },
          "metadata": {},
          "execution_count": 12
        }
      ]
    },
    {
      "cell_type": "code",
      "source": [
        "# kvadrat ildizdan (sqrt)\n",
        "arr2**0.5"
      ],
      "metadata": {
        "colab": {
          "base_uri": "https://localhost:8080/"
        },
        "id": "M90Ibl63HCL7",
        "outputId": "e570a0ed-b5e2-454e-b706-80a8598dacf5"
      },
      "execution_count": 13,
      "outputs": [
        {
          "output_type": "execute_result",
          "data": {
            "text/plain": [
              "array([[2.44948974, 2.64575131, 2.82842712],\n",
              "       [3.        , 3.16227766, 3.31662479]])"
            ]
          },
          "metadata": {},
          "execution_count": 13
        }
      ]
    }
  ]
}