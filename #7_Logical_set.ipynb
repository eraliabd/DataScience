{
  "nbformat": 4,
  "nbformat_minor": 0,
  "metadata": {
    "colab": {
      "provenance": [],
      "toc_visible": true,
      "authorship_tag": "ABX9TyMne5qf9wEItP5M671TdaB9",
      "include_colab_link": true
    },
    "kernelspec": {
      "name": "python3",
      "display_name": "Python 3"
    },
    "language_info": {
      "name": "python"
    }
  },
  "cells": [
    {
      "cell_type": "markdown",
      "metadata": {
        "id": "view-in-github",
        "colab_type": "text"
      },
      "source": [
        "<a href=\"https://colab.research.google.com/github/eraliabd/DataScience/blob/main/%237_Logical_set.ipynb\" target=\"_parent\"><img src=\"https://colab.research.google.com/assets/colab-badge.svg\" alt=\"Open In Colab\"/></a>"
      ]
    },
    {
      "cell_type": "markdown",
      "source": [
        "# **Ma'lumotlar tahlili. (NumPy kutubxonasi)**"
      ],
      "metadata": {
        "id": "CcDShelzsTgm"
      }
    },
    {
      "cell_type": "markdown",
      "source": [
        "# **NumPy kutubxonasi bilan ishlash**"
      ],
      "metadata": {
        "id": "QoIcczcaPUs4"
      }
    },
    {
      "cell_type": "markdown",
      "source": [
        " NumPy kutubxonasini chaqirib olish."
      ],
      "metadata": {
        "id": "K3rW0nynIQ33"
      }
    },
    {
      "cell_type": "code",
      "source": [
        "import numpy as np"
      ],
      "metadata": {
        "id": "7FvD8M-PIX2C"
      },
      "execution_count": 1,
      "outputs": []
    },
    {
      "cell_type": "markdown",
      "source": [
        "# Massivga yo'naltirilgan dasturlash"
      ],
      "metadata": {
        "id": "2h-jeZ3QCyDO"
      }
    },
    {
      "cell_type": "markdown",
      "source": [
        "**Mantiqiy shart operatorlarni massiv operator sifatida qo'llash**"
      ],
      "metadata": {
        "id": "e6PD_yjiC2Hf"
      }
    },
    {
      "cell_type": "markdown",
      "source": [
        "Shart operatori sifatida `where` dan foydalanish"
      ],
      "metadata": {
        "id": "mLBrxlO3DCuT"
      }
    },
    {
      "cell_type": "markdown",
      "source": [
        "Tassavur qiling bizda ikkita ma'lumotlar (massivlar) mavjud bular: `xarr` va yarr. Agarda shart `True`ni qanoatlantirsa `xarr` elementini qabul qilgan aksincha esa `yarr` elementini qabul qilgan yangi massiv hosil qilinsin."
      ],
      "metadata": {
        "id": "zCTBiViaDHbX"
      }
    },
    {
      "cell_type": "code",
      "source": [
        "# Massivlar\n",
        "xarr = np.array([1.1, 1.2, 1.3, 1.4, 1.5]) # xarr\n",
        "yarr = np.array([2.1, 2.2, 2.3, 2.4, 2.5]) # yarr"
      ],
      "metadata": {
        "id": "Jg9wvfKtDm6f"
      },
      "execution_count": 2,
      "outputs": []
    },
    {
      "cell_type": "code",
      "source": [
        "# Shart\n",
        "cond = np.array([True, False, True, True, False])"
      ],
      "metadata": {
        "id": "BwIi8V3SDq4N"
      },
      "execution_count": 3,
      "outputs": []
    },
    {
      "cell_type": "code",
      "source": [
        "# where\n",
        "result = np.where(cond, xarr, yarr) # cond==True : xarr elementi, cond==False : yarr elementi\n",
        "result"
      ],
      "metadata": {
        "colab": {
          "base_uri": "https://localhost:8080/"
        },
        "id": "mzsn-Cb1DshE",
        "outputId": "ce91ad12-6af5-4efe-f00a-5fd7b104d9ee"
      },
      "execution_count": 4,
      "outputs": [
        {
          "output_type": "execute_result",
          "data": {
            "text/plain": [
              "array([1.1, 2.2, 1.3, 1.4, 2.5])"
            ]
          },
          "metadata": {},
          "execution_count": 4
        }
      ]
    },
    {
      "cell_type": "code",
      "source": [
        "arr = np.random.randn(4, 4)  # (4, 4) taxminiy massiv\n",
        "arr"
      ],
      "metadata": {
        "colab": {
          "base_uri": "https://localhost:8080/"
        },
        "id": "tK5jGd-1D0Ma",
        "outputId": "c6590edc-18a2-4a0b-d9bc-ac29cfa900cd"
      },
      "execution_count": 5,
      "outputs": [
        {
          "output_type": "execute_result",
          "data": {
            "text/plain": [
              "array([[ 8.07324317e-01,  2.28093671e+00,  8.78112067e-01,\n",
              "        -6.77284250e-01],\n",
              "       [ 7.45626691e-02, -2.80301589e-01, -3.70315666e-01,\n",
              "         2.63031221e-01],\n",
              "       [-5.30576906e-01, -8.74640051e-02,  2.51486805e+00,\n",
              "         5.37461398e-01],\n",
              "       [ 3.13612028e-03, -3.21082409e+00, -5.48951236e-02,\n",
              "         2.77160662e-01]])"
            ]
          },
          "metadata": {},
          "execution_count": 5
        }
      ]
    },
    {
      "cell_type": "code",
      "source": [
        "# where\n",
        "results = np.where(arr<0, -2, 2) # arr ning manfiy elementlarini -2 ga musbat elementlarin esa 2 ga almashitirish\n",
        "results"
      ],
      "metadata": {
        "colab": {
          "base_uri": "https://localhost:8080/"
        },
        "id": "WBgV4fVYD28d",
        "outputId": "ce07ca87-9a33-4a22-9adb-2c4de0cebcb3"
      },
      "execution_count": 6,
      "outputs": [
        {
          "output_type": "execute_result",
          "data": {
            "text/plain": [
              "array([[ 2,  2,  2, -2],\n",
              "       [ 2, -2, -2,  2],\n",
              "       [-2, -2,  2,  2],\n",
              "       [ 2, -2, -2,  2]])"
            ]
          },
          "metadata": {},
          "execution_count": 6
        }
      ]
    }
  ]
}