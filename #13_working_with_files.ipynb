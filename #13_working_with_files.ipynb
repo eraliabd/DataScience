{
  "nbformat": 4,
  "nbformat_minor": 0,
  "metadata": {
    "colab": {
      "provenance": [],
      "authorship_tag": "ABX9TyMgWGvPboiFT+l0HnxnU1xx",
      "include_colab_link": true
    },
    "kernelspec": {
      "name": "python3",
      "display_name": "Python 3"
    },
    "language_info": {
      "name": "python"
    }
  },
  "cells": [
    {
      "cell_type": "markdown",
      "metadata": {
        "id": "view-in-github",
        "colab_type": "text"
      },
      "source": [
        "<a href=\"https://colab.research.google.com/github/eraliabd/DataScience/blob/main/%2313_working_with_files.ipynb\" target=\"_parent\"><img src=\"https://colab.research.google.com/assets/colab-badge.svg\" alt=\"Open In Colab\"/></a>"
      ]
    },
    {
      "cell_type": "markdown",
      "source": [
        "# **Ma'lumotlar tahlili. (NumPy kutubxonasi)**"
      ],
      "metadata": {
        "id": "CcDShelzsTgm"
      }
    },
    {
      "cell_type": "markdown",
      "source": [
        "# **NumPy kutubxonasi bilan ishlash**"
      ],
      "metadata": {
        "id": "QoIcczcaPUs4"
      }
    },
    {
      "cell_type": "markdown",
      "source": [
        " NumPy kutubxonasini chaqirib olish."
      ],
      "metadata": {
        "id": "K3rW0nynIQ33"
      }
    },
    {
      "cell_type": "code",
      "source": [
        "import numpy as np"
      ],
      "metadata": {
        "id": "4Dtijvh_ShDG"
      },
      "execution_count": 1,
      "outputs": []
    },
    {
      "cell_type": "markdown",
      "source": [],
      "metadata": {
        "id": "6XynUKtqTMQO"
      }
    },
    {
      "cell_type": "markdown",
      "source": [
        "# Fayllar bilash ishlash"
      ],
      "metadata": {
        "id": "2h-jeZ3QCyDO"
      }
    },
    {
      "cell_type": "code",
      "source": [
        "arr = np.arange(10)\n",
        "arr"
      ],
      "metadata": {
        "id": "ZXgzvKdFhUnT",
        "colab": {
          "base_uri": "https://localhost:8080/"
        },
        "outputId": "14ec1ee1-c39d-451e-e7da-ee1c97b0ba31"
      },
      "execution_count": 2,
      "outputs": [
        {
          "output_type": "execute_result",
          "data": {
            "text/plain": [
              "array([0, 1, 2, 3, 4, 5, 6, 7, 8, 9])"
            ]
          },
          "metadata": {},
          "execution_count": 2
        }
      ]
    },
    {
      "cell_type": "code",
      "source": [
        "np.save('data', arr) # array ni faylga saqlash (file_name, array)"
      ],
      "metadata": {
        "id": "jde6f4M0hwhv"
      },
      "execution_count": 3,
      "outputs": []
    },
    {
      "cell_type": "code",
      "source": [
        "arr_load = np.load('data.npy') # fayldagi arrayni o'qish\n",
        "arr_load"
      ],
      "metadata": {
        "id": "8wMEtRkOh9ue",
        "colab": {
          "base_uri": "https://localhost:8080/"
        },
        "outputId": "37a41b44-d1f9-494c-ac28-030ff33558fc"
      },
      "execution_count": 5,
      "outputs": [
        {
          "output_type": "execute_result",
          "data": {
            "text/plain": [
              "array([0, 1, 2, 3, 4, 5, 6, 7, 8, 9])"
            ]
          },
          "metadata": {},
          "execution_count": 5
        }
      ]
    },
    {
      "cell_type": "code",
      "source": [
        "arr1 = np.arange(20)\n",
        "arr1"
      ],
      "metadata": {
        "id": "3M4mZyLSjsrJ",
        "colab": {
          "base_uri": "https://localhost:8080/"
        },
        "outputId": "6228db79-e66a-41f5-da83-3115383ad5c9"
      },
      "execution_count": 6,
      "outputs": [
        {
          "output_type": "execute_result",
          "data": {
            "text/plain": [
              "array([ 0,  1,  2,  3,  4,  5,  6,  7,  8,  9, 10, 11, 12, 13, 14, 15, 16,\n",
              "       17, 18, 19])"
            ]
          },
          "metadata": {},
          "execution_count": 6
        }
      ]
    },
    {
      "cell_type": "code",
      "source": [
        "np.savez('arrays', a=arr, b=arr1) # bir nechta arrayni faylga saqlash,\n",
        "# a va b keyinchalik faylni o'qishni oson qilish uchun"
      ],
      "metadata": {
        "id": "iB4r0GXpj5J8"
      },
      "execution_count": 7,
      "outputs": []
    },
    {
      "cell_type": "code",
      "source": [
        "arrays = np.load('arrays.npz') # faylni o'qish"
      ],
      "metadata": {
        "id": "ktt8qVtikO0S"
      },
      "execution_count": 8,
      "outputs": []
    },
    {
      "cell_type": "code",
      "source": [
        "arrays['a'] # fayldan arr ni o'qish"
      ],
      "metadata": {
        "id": "p-uOiPV1kV-Y",
        "colab": {
          "base_uri": "https://localhost:8080/"
        },
        "outputId": "f56ec291-5bed-419d-af46-09a17ee3a89d"
      },
      "execution_count": 9,
      "outputs": [
        {
          "output_type": "execute_result",
          "data": {
            "text/plain": [
              "array([0, 1, 2, 3, 4, 5, 6, 7, 8, 9])"
            ]
          },
          "metadata": {},
          "execution_count": 9
        }
      ]
    },
    {
      "cell_type": "code",
      "source": [
        "arrays['b'] # fayldan arr1 ni o'qish"
      ],
      "metadata": {
        "id": "41OVPT0ZkX_N",
        "colab": {
          "base_uri": "https://localhost:8080/"
        },
        "outputId": "ac491bc1-3761-4a0a-81e7-ec57d5ff0362"
      },
      "execution_count": 10,
      "outputs": [
        {
          "output_type": "execute_result",
          "data": {
            "text/plain": [
              "array([ 0,  1,  2,  3,  4,  5,  6,  7,  8,  9, 10, 11, 12, 13, 14, 15, 16,\n",
              "       17, 18, 19])"
            ]
          },
          "metadata": {},
          "execution_count": 10
        }
      ]
    },
    {
      "cell_type": "code",
      "source": [
        "np.savez_compressed('array_comp.npz', a=arr, b=arr1) # bir nechta arrayni hajmini kichraytirib(siqib) saqlash"
      ],
      "metadata": {
        "id": "tVZacF2Nkhm-"
      },
      "execution_count": 12,
      "outputs": []
    },
    {
      "cell_type": "code",
      "source": [
        "# Numpy massivlarni yuklab olish\n",
        "data = np.load('arrays.npz')\n",
        "\n",
        "# Yuklab olingan massivlarning nomlarini olish\n",
        "nomlar = data.keys()\n",
        "\n",
        "# Nomlarni ekranga chiqarish\n",
        "for nom in nomlar:\n",
        "    print(nom)"
      ],
      "metadata": {
        "id": "AuFzC7BylKB2",
        "colab": {
          "base_uri": "https://localhost:8080/"
        },
        "outputId": "1162107e-e704-48b5-dae5-f02a31d83020"
      },
      "execution_count": 16,
      "outputs": [
        {
          "output_type": "stream",
          "name": "stdout",
          "text": [
            "a\n",
            "b\n"
          ]
        }
      ]
    }
  ]
}