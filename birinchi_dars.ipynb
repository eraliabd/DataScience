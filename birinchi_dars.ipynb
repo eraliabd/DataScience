{
  "nbformat": 4,
  "nbformat_minor": 0,
  "metadata": {
    "colab": {
      "provenance": [],
      "mount_file_id": "1Ipf_Kzs3wtakWj5HKEjXKYFEBYGSbZwZ",
      "authorship_tag": "ABX9TyOI88bX2g4vB122CzG+y2rj",
      "include_colab_link": true
    },
    "kernelspec": {
      "name": "python3",
      "display_name": "Python 3"
    },
    "language_info": {
      "name": "python"
    }
  },
  "cells": [
    {
      "cell_type": "markdown",
      "metadata": {
        "id": "view-in-github",
        "colab_type": "text"
      },
      "source": [
        "<a href=\"https://colab.research.google.com/github/eraliabd/DataScience/blob/main/birinchi_dars.ipynb\" target=\"_parent\"><img src=\"https://colab.research.google.com/assets/colab-badge.svg\" alt=\"Open In Colab\"/></a>"
      ]
    },
    {
      "cell_type": "code",
      "execution_count": null,
      "metadata": {
        "colab": {
          "base_uri": "https://localhost:8080/"
        },
        "id": "8Aq43aIQfKBr",
        "outputId": "8b3c2bc7-0e32-4566-d292-bd2c6c53b382"
      },
      "outputs": [
        {
          "output_type": "stream",
          "name": "stdout",
          "text": [
            "Salom, Uyim\n"
          ]
        }
      ],
      "source": [
        "print('Salom, Uyim')"
      ]
    },
    {
      "cell_type": "code",
      "source": [
        "print(\"Salom Dunyo\")"
      ],
      "metadata": {
        "id": "sDiKjWeNf1tS",
        "colab": {
          "base_uri": "https://localhost:8080/"
        },
        "outputId": "a9c9610f-f48f-4c30-d80c-c5f071af3829"
      },
      "execution_count": 1,
      "outputs": [
        {
          "output_type": "stream",
          "name": "stdout",
          "text": [
            "Salom Dunyo\n"
          ]
        }
      ]
    },
    {
      "cell_type": "code",
      "source": [
        "import pandas as pd\n",
        "\n",
        "files = pd.read_excel('ReportPersonList.xlsx')\n",
        "\n",
        "files.head()"
      ],
      "metadata": {
        "id": "8DCRnH_TgD7g"
      },
      "execution_count": null,
      "outputs": []
    },
    {
      "cell_type": "code",
      "source": [
        "import numpy as np\n",
        "import pandas as pd\n",
        "import sklearn\n",
        "import matplotlib.pyplot as plt\n",
        "import seaborn as sns\n",
        "import torch\n",
        "import tensorflow as tf\n",
        "import keras\n",
        "\n",
        "tf.__version__"
      ],
      "metadata": {
        "colab": {
          "base_uri": "https://localhost:8080/",
          "height": 35
        },
        "id": "sWBBLHG-kryb",
        "outputId": "a8669800-81a4-42df-d3de-6fc6c63cd29d"
      },
      "execution_count": 3,
      "outputs": [
        {
          "output_type": "execute_result",
          "data": {
            "text/plain": [
              "'2.15.0'"
            ],
            "application/vnd.google.colaboratory.intrinsic+json": {
              "type": "string"
            }
          },
          "metadata": {},
          "execution_count": 3
        }
      ]
    }
  ]
}